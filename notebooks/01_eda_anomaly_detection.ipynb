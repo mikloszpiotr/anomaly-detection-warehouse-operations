{
 "cells": [
  {
   "cell_type": "markdown",
   "id": "face99b2",
   "metadata": {},
   "source": [
    "# 🏭 EDA: Anomaly Detection in Warehouse Operations"
   ]
  },
  {
   "cell_type": "code",
   "execution_count": null,
   "id": "bf2a88f8",
   "metadata": {},
   "outputs": [],
   "source": [
    "import pandas as pd\n",
    "import matplotlib.pyplot as plt\n",
    "import seaborn as sns\n",
    "sns.set(style='whitegrid')\n",
    "\n",
    "df = pd.read_csv(\"../data/raw/warehouse_logs.csv\", parse_dates=[\"timestamp\"])\n",
    "df.head()"
   ]
  },
  {
   "cell_type": "markdown",
   "id": "8e997a8c",
   "metadata": {},
   "source": [
    "## 📊 Class Balance: Anomalies vs Normal"
   ]
  },
  {
   "cell_type": "code",
   "execution_count": null,
   "id": "b7e1e064",
   "metadata": {},
   "outputs": [],
   "source": [
    "sns.countplot(data=df, x='is_anomaly')\n",
    "plt.title(\"Anomaly Class Balance\")\n",
    "plt.show()"
   ]
  },
  {
   "cell_type": "markdown",
   "id": "f41d89aa",
   "metadata": {},
   "source": [
    "## 🕒 Duration vs Device Lag (Anomalies Highlighted)"
   ]
  },
  {
   "cell_type": "code",
   "execution_count": null,
   "id": "119c883e",
   "metadata": {},
   "outputs": [],
   "source": [
    "sns.scatterplot(data=df, x='duration_sec', y='device_lag_ms', hue='is_anomaly', alpha=0.7)\n",
    "plt.title(\"Task Duration vs Device Lag\")\n",
    "plt.show()"
   ]
  },
  {
   "cell_type": "markdown",
   "id": "2a121915",
   "metadata": {},
   "source": [
    "## 🔍 Error Counts & Scanner Failures"
   ]
  },
  {
   "cell_type": "code",
   "execution_count": null,
   "id": "ce11778b",
   "metadata": {},
   "outputs": [],
   "source": [
    "fig, axs = plt.subplots(1, 2, figsize=(12, 4))\n",
    "sns.histplot(df['errors'], ax=axs[0], bins=3)\n",
    "axs[0].set_title(\"Errors\")\n",
    "sns.histplot(df['scanner_failures'], ax=axs[1])\n",
    "axs[1].set_title(\"Scanner Failures\")\n",
    "plt.tight_layout()\n",
    "plt.show()"
   ]
  },
  {
   "cell_type": "markdown",
   "id": "1f3aeb49",
   "metadata": {},
   "source": [
    "## 🧹 Zone and Task Type Distributions"
   ]
  },
  {
   "cell_type": "code",
   "execution_count": null,
   "id": "1c6e9f24",
   "metadata": {},
   "outputs": [],
   "source": [
    "fig, axs = plt.subplots(1, 2, figsize=(12, 4))\n",
    "sns.countplot(data=df, x='zone_id', ax=axs[0])\n",
    "axs[0].set_title(\"Zone Distribution\")\n",
    "sns.countplot(data=df, x='task_type', ax=axs[1])\n",
    "axs[1].set_title(\"Task Type Distribution\")\n",
    "plt.tight_layout()\n",
    "plt.show()"
   ]
  }
 ],
 "metadata": {},
 "nbformat": 4,
 "nbformat_minor": 5
}
